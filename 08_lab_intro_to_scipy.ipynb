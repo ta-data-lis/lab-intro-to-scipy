{
  "cells": [
    {
      "cell_type": "markdown",
      "metadata": {
        "id": "DydX9ATpdAyx"
      },
      "source": [
        "# Before your start:\n",
        "- Read the README.md file\n",
        "- Comment as much as you can and use the resources (README.md file)\n",
        "- Happy learning!"
      ]
    },
    {
      "cell_type": "code",
      "execution_count": null,
      "metadata": {
        "id": "NZg8B_dPdAyy"
      },
      "outputs": [],
      "source": [
        "import pandas as pd\n",
        "import numpy as np\n",
        "import scipy.stats as st"
      ]
    },
    {
      "cell_type": "markdown",
      "metadata": {
        "id": "FuZYEnNudAyz"
      },
      "source": [
        "# Challenge 1 - The `stats` Submodule\n",
        "\n",
        "This submodule contains statistical functions for conducting hypothesis tests, producing various distributions and other useful tools. Let's examine this submodule using the KickStarter dataset. Load the data using the `ks-projects-201801.csv` file"
      ]
    },
    {
      "cell_type": "code",
      "execution_count": null,
      "metadata": {
        "id": "gPOLNJcRdAyz"
      },
      "outputs": [],
      "source": [
        "ks = pd.read_csv(\"/content/ks-projects-201801.csv\")\n"
      ]
    },
    {
      "cell_type": "markdown",
      "metadata": {
        "id": "CEuLU-4idAy0"
      },
      "source": [
        "Now print the `head` function to examine the dataset."
      ]
    },
    {
      "cell_type": "code",
      "execution_count": null,
      "metadata": {
        "colab": {
          "base_uri": "https://localhost:8080/",
          "height": 185
        },
        "id": "vJk7VDPwdAy0",
        "outputId": "4604bed9-803f-4ff5-864d-48226862f8fd"
      },
      "outputs": [
        {
          "output_type": "execute_result",
          "data": {
            "text/plain": [
              "           ID                             name category main_category  \\\n",
              "0  1000002330  The Songs of Adelaide & Abullah   Poetry    Publishing   \n",
              "\n",
              "  currency    deadline    goal             launched  pledged   state  backers  \\\n",
              "0      GBP  2015-10-09  1000.0  2015-08-11 12:12:28      0.0  failed        0   \n",
              "\n",
              "  country  usd pledged  usd_pledged_real  usd_goal_real  \n",
              "0      GB          0.0               0.0        1533.95  "
            ],
            "text/html": [
              "\n",
              "  <div id=\"df-11a76aa1-3785-460d-a51a-3e522ed6cccc\" class=\"colab-df-container\">\n",
              "    <div>\n",
              "<style scoped>\n",
              "    .dataframe tbody tr th:only-of-type {\n",
              "        vertical-align: middle;\n",
              "    }\n",
              "\n",
              "    .dataframe tbody tr th {\n",
              "        vertical-align: top;\n",
              "    }\n",
              "\n",
              "    .dataframe thead th {\n",
              "        text-align: right;\n",
              "    }\n",
              "</style>\n",
              "<table border=\"1\" class=\"dataframe\">\n",
              "  <thead>\n",
              "    <tr style=\"text-align: right;\">\n",
              "      <th></th>\n",
              "      <th>ID</th>\n",
              "      <th>name</th>\n",
              "      <th>category</th>\n",
              "      <th>main_category</th>\n",
              "      <th>currency</th>\n",
              "      <th>deadline</th>\n",
              "      <th>goal</th>\n",
              "      <th>launched</th>\n",
              "      <th>pledged</th>\n",
              "      <th>state</th>\n",
              "      <th>backers</th>\n",
              "      <th>country</th>\n",
              "      <th>usd pledged</th>\n",
              "      <th>usd_pledged_real</th>\n",
              "      <th>usd_goal_real</th>\n",
              "    </tr>\n",
              "  </thead>\n",
              "  <tbody>\n",
              "    <tr>\n",
              "      <th>0</th>\n",
              "      <td>1000002330</td>\n",
              "      <td>The Songs of Adelaide &amp; Abullah</td>\n",
              "      <td>Poetry</td>\n",
              "      <td>Publishing</td>\n",
              "      <td>GBP</td>\n",
              "      <td>2015-10-09</td>\n",
              "      <td>1000.0</td>\n",
              "      <td>2015-08-11 12:12:28</td>\n",
              "      <td>0.0</td>\n",
              "      <td>failed</td>\n",
              "      <td>0</td>\n",
              "      <td>GB</td>\n",
              "      <td>0.0</td>\n",
              "      <td>0.0</td>\n",
              "      <td>1533.95</td>\n",
              "    </tr>\n",
              "  </tbody>\n",
              "</table>\n",
              "</div>\n",
              "    <div class=\"colab-df-buttons\">\n",
              "\n",
              "  <div class=\"colab-df-container\">\n",
              "    <button class=\"colab-df-convert\" onclick=\"convertToInteractive('df-11a76aa1-3785-460d-a51a-3e522ed6cccc')\"\n",
              "            title=\"Convert this dataframe to an interactive table.\"\n",
              "            style=\"display:none;\">\n",
              "\n",
              "  <svg xmlns=\"http://www.w3.org/2000/svg\" height=\"24px\" viewBox=\"0 -960 960 960\">\n",
              "    <path d=\"M120-120v-720h720v720H120Zm60-500h600v-160H180v160Zm220 220h160v-160H400v160Zm0 220h160v-160H400v160ZM180-400h160v-160H180v160Zm440 0h160v-160H620v160ZM180-180h160v-160H180v160Zm440 0h160v-160H620v160Z\"/>\n",
              "  </svg>\n",
              "    </button>\n",
              "\n",
              "  <style>\n",
              "    .colab-df-container {\n",
              "      display:flex;\n",
              "      gap: 12px;\n",
              "    }\n",
              "\n",
              "    .colab-df-convert {\n",
              "      background-color: #E8F0FE;\n",
              "      border: none;\n",
              "      border-radius: 50%;\n",
              "      cursor: pointer;\n",
              "      display: none;\n",
              "      fill: #1967D2;\n",
              "      height: 32px;\n",
              "      padding: 0 0 0 0;\n",
              "      width: 32px;\n",
              "    }\n",
              "\n",
              "    .colab-df-convert:hover {\n",
              "      background-color: #E2EBFA;\n",
              "      box-shadow: 0px 1px 2px rgba(60, 64, 67, 0.3), 0px 1px 3px 1px rgba(60, 64, 67, 0.15);\n",
              "      fill: #174EA6;\n",
              "    }\n",
              "\n",
              "    .colab-df-buttons div {\n",
              "      margin-bottom: 4px;\n",
              "    }\n",
              "\n",
              "    [theme=dark] .colab-df-convert {\n",
              "      background-color: #3B4455;\n",
              "      fill: #D2E3FC;\n",
              "    }\n",
              "\n",
              "    [theme=dark] .colab-df-convert:hover {\n",
              "      background-color: #434B5C;\n",
              "      box-shadow: 0px 1px 3px 1px rgba(0, 0, 0, 0.15);\n",
              "      filter: drop-shadow(0px 1px 2px rgba(0, 0, 0, 0.3));\n",
              "      fill: #FFFFFF;\n",
              "    }\n",
              "  </style>\n",
              "\n",
              "    <script>\n",
              "      const buttonEl =\n",
              "        document.querySelector('#df-11a76aa1-3785-460d-a51a-3e522ed6cccc button.colab-df-convert');\n",
              "      buttonEl.style.display =\n",
              "        google.colab.kernel.accessAllowed ? 'block' : 'none';\n",
              "\n",
              "      async function convertToInteractive(key) {\n",
              "        const element = document.querySelector('#df-11a76aa1-3785-460d-a51a-3e522ed6cccc');\n",
              "        const dataTable =\n",
              "          await google.colab.kernel.invokeFunction('convertToInteractive',\n",
              "                                                    [key], {});\n",
              "        if (!dataTable) return;\n",
              "\n",
              "        const docLinkHtml = 'Like what you see? Visit the ' +\n",
              "          '<a target=\"_blank\" href=https://colab.research.google.com/notebooks/data_table.ipynb>data table notebook</a>'\n",
              "          + ' to learn more about interactive tables.';\n",
              "        element.innerHTML = '';\n",
              "        dataTable['output_type'] = 'display_data';\n",
              "        await google.colab.output.renderOutput(dataTable, element);\n",
              "        const docLink = document.createElement('div');\n",
              "        docLink.innerHTML = docLinkHtml;\n",
              "        element.appendChild(docLink);\n",
              "      }\n",
              "    </script>\n",
              "  </div>\n",
              "\n",
              "    </div>\n",
              "  </div>\n"
            ]
          },
          "metadata": {},
          "execution_count": 13
        }
      ],
      "source": [
        "ks.head(1)"
      ]
    },
    {
      "cell_type": "markdown",
      "metadata": {
        "id": "cUEk-typdAy0"
      },
      "source": [
        "Import the `mode` function from `scipy.stats` and find the mode of the `country` and `currency` column."
      ]
    },
    {
      "cell_type": "code",
      "execution_count": null,
      "metadata": {
        "id": "WYFbrWf6dAy0"
      },
      "outputs": [],
      "source": [
        "from scipy.stats import mode\n",
        "# For country\n",
        "country_mode = ks[\"country\"].mode()\n",
        "count_country = ks[\"country\"].value_counts()[0]\n",
        "print(\"Most frequent country is\",country_mode,\"\\nwith\",count_country,\"observations\")\n",
        "\n",
        "# For currency\n",
        "currency_mode = ks[\"currency\"].mode()\n",
        "count_currency = ks[\"currency\"].value_counts()[0]\n",
        "print(\"Most frequent currency is\",currency_mode,\"\\nwith\",count_currency,\"observations\")"
      ]
    },
    {
      "cell_type": "markdown",
      "metadata": {
        "id": "qiFRoXJ7dAy0"
      },
      "source": [
        "The trimmed mean is a function that computes the mean of the data with observations removed. The most common way to compute a trimmed mean is by specifying a percentage and then removing elements from both ends. However, we can also specify a threshold on both ends. The goal of this function is to create a more robust method of computing the mean that is less influenced by outliers. SciPy contains a function called `tmean` for computing the trimmed mean.\n",
        "\n",
        "In the cell below, import the `tmean` function and then find the 75th percentile of the `goal` column. Compute the trimmed mean between 0 and the 75th percentile of the column. Read more about the `tmean` function [here](https://docs.scipy.org/doc/scipy/reference/generated/scipy.stats.tmean.html#scipy.stats.tmean)."
      ]
    },
    {
      "cell_type": "code",
      "source": [
        "ks.head(1)"
      ],
      "metadata": {
        "id": "nMFA1kH4ha4j"
      },
      "execution_count": null,
      "outputs": []
    },
    {
      "cell_type": "code",
      "execution_count": null,
      "metadata": {
        "colab": {
          "base_uri": "https://localhost:8080/"
        },
        "id": "nbD6HRUxdAy1",
        "outputId": "6b9d59f5-d131-4c93-b93b-a41fe0c18a07"
      },
      "outputs": [
        {
          "output_type": "execute_result",
          "data": {
            "text/plain": [
              "4874.150287106898"
            ]
          },
          "metadata": {},
          "execution_count": 66
        }
      ],
      "source": [
        "from scipy.stats import tmean\n",
        "# scipy.stats.tmean(a, limits=None (RANGE I GUESS, here 0-75), inclusive=(True, True), axis=None)\n",
        "\n",
        "Q3 = np.quantile(ks[\"goal\"], 0.75)\n",
        "\n",
        "# very much of a pain.\n",
        "q3_data = ks[(ks[\"goal\"] > 0) & (ks[\"goal\"] <= Q3)] ### ks[\"goal\"].min() is the acurate lower bound??\n",
        "\n",
        "q3_tmean = tmean(q3_data[\"goal\"])\n",
        "q3_tmean"
      ]
    },
    {
      "cell_type": "code",
      "source": [
        "\"\"\" Just did this to understand and be sure about previous exercise. Using q4 = total sample, maybe helped to see if I was wrong \"\"\"\n",
        "q4_mean = total_mean = ks[\"goal\"].mean()\n",
        "print(q4_mean)\n",
        "\n",
        "q4_tmean = tmean(ks[\"goal\"])\n",
        "print(q4_tmean)"
      ],
      "metadata": {
        "id": "ueGvDwWxnKwi"
      },
      "execution_count": null,
      "outputs": []
    },
    {
      "cell_type": "markdown",
      "metadata": {
        "id": "jsmFyw5NdAy1"
      },
      "source": [
        "#### SciPy contains various statistical tests. One of the tests is Fisher's exact test. This test is used for contingency tables.\n",
        "\n",
        "The test originates from the \"Lady Tasting Tea\" experiment. In 1935, Fisher published the results of the experiment in his book. The experiment was based on a claim by Muriel Bristol that she can taste whether tea or milk was first poured into the cup. Fisher devised this test to disprove her claim. The null hypothesis is that the treatments do not affect outcomes, while the alternative hypothesis is that the treatment does affect outcome. To read more about Fisher's exact test, see:\n",
        "\n",
        "* [Wikipedia's explanation](http://b.link/test61)\n",
        "* [A cool deep explanation](http://b.link/handbook47)\n",
        "* [An explanation with some important Fisher's considerations](http://b.link/significance76)\n",
        "\n",
        "Let's perform Fisher's exact test on our KickStarter data. We intend to test the hypothesis that the choice of currency has an impact on meeting the pledge goal. We'll start by creating two derived columns in our dataframe. The first will contain 1 if the amount of money in `usd_pledged_real` is greater than the amount of money in `usd_goal_real`. We can compute this by using the `np.where` function. If the amount in one column is greater than the other, enter a value of 1, otherwise enter a value of zero. Add this column to the dataframe and name it `goal_met`."
      ]
    },
    {
      "cell_type": "code",
      "source": [
        "ks.head(1)"
      ],
      "metadata": {
        "id": "UImXNT8bsvQj"
      },
      "execution_count": null,
      "outputs": []
    },
    {
      "cell_type": "code",
      "execution_count": null,
      "metadata": {
        "id": "ubajvpLodAy1"
      },
      "outputs": [],
      "source": [
        "# Use the Fisher's exact test of independence when you have two nominal variables and you want to see whether the proportions of one variable are different\n",
        "# depending on the value of the other variable. Use it when the sample size is small.\n",
        "\n",
        "# N0: treatments do not affect outcomes\n",
        "# N1: treatments does affect outcomes"
      ]
    },
    {
      "cell_type": "code",
      "source": [
        "# The first will contain 1 if the amount of money in usd_pledged_real is greater than the amount of money in usd_goal_real.\n",
        "# We can compute this by using the np.where function. ----- > numpy.where(condition, x, y) < ----- love this s*it\n",
        "\n",
        "ks[\"goal_met\"] = np.where(ks[\"usd_pledged_real\"] > ks[\"usd_goal_real\"], 1, 0)"
      ],
      "metadata": {
        "id": "WasV4_frs2fQ"
      },
      "execution_count": null,
      "outputs": []
    },
    {
      "cell_type": "markdown",
      "metadata": {
        "id": "vRKp31jsdAy1"
      },
      "source": [
        "Next, create a column that checks whether the currency of the project is in US Dollars. Create a column called `usd` using the `np.where` function where if the currency is US Dollars, assign a value of 1 to the row and 0 otherwise."
      ]
    },
    {
      "cell_type": "code",
      "execution_count": null,
      "metadata": {
        "id": "z16-6H68dAy1"
      },
      "outputs": [],
      "source": [
        "ks[\"usd\"] = np.where(ks[\"currency\"] == \"USD\", 1, 0)"
      ]
    },
    {
      "cell_type": "markdown",
      "metadata": {
        "id": "E03PPavjdAy2"
      },
      "source": [
        "Now create a contingency table using the `pd.crosstab` function in the cell below to compare the `goal_met` and `usd` columns."
      ]
    },
    {
      "cell_type": "markdown",
      "metadata": {
        "id": "JgwigLiRdAy2"
      },
      "source": [
        "Import the `fisher_exact` function from `scipy.stats` and conduct the hypothesis test on the contingency table that you have generated above. You can read more about the `fisher_exact` function [here](https://docs.scipy.org/doc/scipy/reference/generated/scipy.stats.fisher_exact.html#scipy.stats.fisher_exact). The output of the function should be the odds ratio and the p-value. The p-value will provide you with the outcome of the test."
      ]
    },
    {
      "cell_type": "code",
      "execution_count": null,
      "metadata": {
        "colab": {
          "base_uri": "https://localhost:8080/"
        },
        "id": "ebKQp-4XdAy2",
        "outputId": "5a5e2c4f-ee7b-4cf4-9827-72e2a25013e6"
      },
      "outputs": [
        {
          "output_type": "execute_result",
          "data": {
            "text/plain": [
              "SignificanceResult(statistic=1.3791838163150314, pvalue=2.994e-320)"
            ]
          },
          "metadata": {},
          "execution_count": 99
        }
      ],
      "source": [
        "from scipy.stats import fisher_exact\n",
        "\n",
        "# From: 04_lab_hypothesis_testing_1\n",
        "cont_table = pd.crosstab(ks[\"goal_met\"], ks[\"usd\"])\n",
        "\n",
        "# Syntax: scipy.stats.fisher_exact(table, alternative='two-sided')\n",
        "st.fisher_exact(cont_table, alternative = \"two-sided\")"
      ]
    },
    {
      "cell_type": "code",
      "source": [
        "# N0: currency in USD does not affect goal\n",
        "# N1: currency in USD DOES affect goal\n",
        "\n",
        "# Am I reading this right?\n",
        "\n",
        "p_value = st.fisher_exact(cont_table, alternative = \"two-sided\")[1]\n",
        "\n",
        "if p_value > 0.05:\n",
        "  print(\"I can not reject the null hypothesis\")\n",
        "else:\n",
        "  print(\"We can reject the null hypothesis\")\n",
        "\n",
        "# this p-value is the biggest 0 ever, (but still) means that USD indeed affects the goal, probably if the majoraty of transactions(profit?) is in USD"
      ],
      "metadata": {
        "id": "jABdijfIy2Y_"
      },
      "execution_count": null,
      "outputs": []
    },
    {
      "cell_type": "markdown",
      "metadata": {
        "id": "luTEyqbOdAy2"
      },
      "source": [
        "# Challenge 2 - The `interpolate` submodule\n",
        "\n",
        "This submodule allows us to interpolate between two points and create a continuous distribution based on the observed data.\n",
        "\n",
        "In the cell below, import the `interp1d` function from `scipy.interpolate` and first take a sample of 10 rows from `kickstarter`.\n",
        "\n",
        "**Make sure there are not duplicated values in `backers`**"
      ]
    },
    {
      "cell_type": "code",
      "execution_count": null,
      "metadata": {
        "id": "R9RK3ESUdAy2"
      },
      "outputs": [],
      "source": [
        "from scipy.interpolate import interp1d\n",
        "\n",
        "# Make sure there are not duplicated values in backers:\n",
        "ks[\"backers\"] = ks[\"backers\"].drop_duplicates()\n",
        "\n",
        "sample_10 = ks.sample(10)\n",
        "sample_10"
      ]
    },
    {
      "cell_type": "markdown",
      "metadata": {
        "id": "tkW_hYtMdAy3"
      },
      "source": [
        "Next, create a linear interpolation of `usd_pledged_real` as a function of the `backers`. Create a function `f` that generates a linear interpolation of `usd_pledged_real` as predicted by the amount of `backers`."
      ]
    },
    {
      "cell_type": "code",
      "source": [
        "# Not this one, sorry."
      ],
      "metadata": {
        "id": "KkscFLoidlxL"
      },
      "execution_count": null,
      "outputs": []
    },
    {
      "cell_type": "markdown",
      "metadata": {
        "id": "N1MYIrIidAy3"
      },
      "source": [
        "Now create a new variable called `x_new`. This variable will contain all integers between the minimum number of backers in our sample and the maximum number of backers. The goal here is to take the dataset that contains few obeservations due to sampling and fill all observations with a value using the interpolation function.\n",
        "\n",
        "Hint: one option is the `np.arange` function."
      ]
    },
    {
      "cell_type": "markdown",
      "metadata": {
        "id": "IE-_MLxQdAy3"
      },
      "source": [
        "Plot function `f` for all values of `x_new`. Run the code below."
      ]
    },
    {
      "cell_type": "code",
      "execution_count": null,
      "metadata": {
        "id": "j1bV0Xb-dAy3"
      },
      "outputs": [],
      "source": [
        "# Not this one, sorry.\n",
        "\n",
        "%matplotlib inline\n",
        "import matplotlib.pyplot as plt\n",
        "\n",
        "plt.plot(x_new, f(x_new))"
      ]
    },
    {
      "cell_type": "markdown",
      "metadata": {
        "id": "VJzmuotNdAy3"
      },
      "source": [
        "Next create a function that will generate a cubic interpolation function. Name the function `g`."
      ]
    },
    {
      "cell_type": "code",
      "execution_count": null,
      "metadata": {
        "id": "PFjfeBNSdAy3"
      },
      "outputs": [],
      "source": [
        "# Not this one, sorry.\n",
        "\n"
      ]
    },
    {
      "cell_type": "code",
      "execution_count": null,
      "metadata": {
        "id": "3i912hHgdAy3"
      },
      "outputs": [],
      "source": [
        "# Not this one, sorry.\n",
        "\n",
        "plt.plot(x_new, g(x_new))"
      ]
    },
    {
      "cell_type": "markdown",
      "metadata": {
        "id": "8jnyMWkqdAy3"
      },
      "source": [
        "# Bonus Challenge - The Binomial Distribution\n",
        "\n",
        "The binomial distribution allows us to calculate the probability of k successes in n trials for a random variable with two possible outcomes (which we typically label success and failure).  \n",
        "\n",
        "The probability of success is typically denoted by p and the probability of failure is denoted by 1-p.\n",
        "\n",
        "The `scipy.stats` submodule contains a `binom` function for computing the probabilites of a random variable with the binomial distribution. You may read more about the binomial distribution [here](http://b.link/binomial55)\n",
        "\n",
        "* In the cell below, compute the probability that a dice lands on 5 exactly 3 times in 8 tries.\n"
      ]
    },
    {
      "cell_type": "code",
      "execution_count": null,
      "metadata": {
        "id": "yMSUD2zzdAy3"
      },
      "outputs": [],
      "source": [
        "# Your code here:\n",
        "\n"
      ]
    },
    {
      "cell_type": "markdown",
      "metadata": {
        "id": "jy-09TYcdAy4"
      },
      "source": [
        "* Do a simulation for the last event: do a function that simulate 8 tries and return a 1 if the result is 5 exactly 3 times and 0 if not. Now launch your simulation."
      ]
    },
    {
      "cell_type": "code",
      "execution_count": null,
      "metadata": {
        "id": "egNApX3qdAy4"
      },
      "outputs": [],
      "source": [
        "# Your code here:\n"
      ]
    },
    {
      "cell_type": "markdown",
      "metadata": {
        "id": "ehOx2ngjdAy4"
      },
      "source": [
        "* Launch 10 simulations and represent the result in a bar plot. Now launch 1000 simulations and represent it. What do you see?"
      ]
    },
    {
      "cell_type": "code",
      "execution_count": null,
      "metadata": {
        "id": "vIeQnWALdAy4"
      },
      "outputs": [],
      "source": [
        "# Your code here:\n"
      ]
    }
  ],
  "metadata": {
    "kernelspec": {
      "display_name": "Python 3",
      "language": "python",
      "name": "python3"
    },
    "language_info": {
      "codemirror_mode": {
        "name": "ipython",
        "version": 3
      },
      "file_extension": ".py",
      "mimetype": "text/x-python",
      "name": "python",
      "nbconvert_exporter": "python",
      "pygments_lexer": "ipython3",
      "version": "3.6.9"
    },
    "colab": {
      "provenance": []
    }
  },
  "nbformat": 4,
  "nbformat_minor": 0
}