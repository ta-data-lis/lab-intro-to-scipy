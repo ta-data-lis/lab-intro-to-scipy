{
 "cells": [
  {
   "cell_type": "markdown",
   "metadata": {},
   "source": [
    "# Before your start:\n",
    "- Read the README.md file\n",
    "- Comment as much as you can and use the resources (README.md file)\n",
    "- Happy learning!"
   ]
  },
  {
   "cell_type": "code",
   "execution_count": 7,
   "metadata": {},
   "outputs": [],
   "source": [
    "#import numpy and pandas\n",
    "\n",
    "import numpy as np\n",
    "import pandas as pd\n",
    "import scipy.stats as st\n"
   ]
  },
  {
   "cell_type": "markdown",
   "metadata": {},
   "source": [
    "# Challenge 1 - The `stats` Submodule\n",
    "\n",
    "This submodule contains statistical functions for conducting hypothesis tests, producing various distributions and other useful tools. Let's examine this submodule using the KickStarter dataset. Load the data using the `ks-projects-201801.csv` file"
   ]
  },
  {
   "cell_type": "code",
   "execution_count": 3,
   "metadata": {},
   "outputs": [],
   "source": [
    "# Your code here:\n",
    "data = pd.read_csv(\"ks-projects-201801.csv\")"
   ]
  },
  {
   "cell_type": "markdown",
   "metadata": {},
   "source": [
    "Now print the `head` function to examine the dataset."
   ]
  },
  {
   "cell_type": "code",
   "execution_count": 4,
   "metadata": {},
   "outputs": [
    {
     "data": {
      "text/html": [
       "<div>\n",
       "<style scoped>\n",
       "    .dataframe tbody tr th:only-of-type {\n",
       "        vertical-align: middle;\n",
       "    }\n",
       "\n",
       "    .dataframe tbody tr th {\n",
       "        vertical-align: top;\n",
       "    }\n",
       "\n",
       "    .dataframe thead th {\n",
       "        text-align: right;\n",
       "    }\n",
       "</style>\n",
       "<table border=\"1\" class=\"dataframe\">\n",
       "  <thead>\n",
       "    <tr style=\"text-align: right;\">\n",
       "      <th></th>\n",
       "      <th>ID</th>\n",
       "      <th>name</th>\n",
       "      <th>category</th>\n",
       "      <th>main_category</th>\n",
       "      <th>currency</th>\n",
       "      <th>deadline</th>\n",
       "      <th>goal</th>\n",
       "      <th>launched</th>\n",
       "      <th>pledged</th>\n",
       "      <th>state</th>\n",
       "      <th>backers</th>\n",
       "      <th>country</th>\n",
       "      <th>usd pledged</th>\n",
       "      <th>usd_pledged_real</th>\n",
       "      <th>usd_goal_real</th>\n",
       "    </tr>\n",
       "  </thead>\n",
       "  <tbody>\n",
       "    <tr>\n",
       "      <th>0</th>\n",
       "      <td>1000002330</td>\n",
       "      <td>The Songs of Adelaide &amp; Abullah</td>\n",
       "      <td>Poetry</td>\n",
       "      <td>Publishing</td>\n",
       "      <td>GBP</td>\n",
       "      <td>2015-10-09</td>\n",
       "      <td>1000.0</td>\n",
       "      <td>2015-08-11 12:12:28</td>\n",
       "      <td>0.0</td>\n",
       "      <td>failed</td>\n",
       "      <td>0</td>\n",
       "      <td>GB</td>\n",
       "      <td>0.0</td>\n",
       "      <td>0.0</td>\n",
       "      <td>1533.95</td>\n",
       "    </tr>\n",
       "    <tr>\n",
       "      <th>1</th>\n",
       "      <td>1000003930</td>\n",
       "      <td>Greeting From Earth: ZGAC Arts Capsule For ET</td>\n",
       "      <td>Narrative Film</td>\n",
       "      <td>Film &amp; Video</td>\n",
       "      <td>USD</td>\n",
       "      <td>2017-11-01</td>\n",
       "      <td>30000.0</td>\n",
       "      <td>2017-09-02 04:43:57</td>\n",
       "      <td>2421.0</td>\n",
       "      <td>failed</td>\n",
       "      <td>15</td>\n",
       "      <td>US</td>\n",
       "      <td>100.0</td>\n",
       "      <td>2421.0</td>\n",
       "      <td>30000.00</td>\n",
       "    </tr>\n",
       "    <tr>\n",
       "      <th>2</th>\n",
       "      <td>1000004038</td>\n",
       "      <td>Where is Hank?</td>\n",
       "      <td>Narrative Film</td>\n",
       "      <td>Film &amp; Video</td>\n",
       "      <td>USD</td>\n",
       "      <td>2013-02-26</td>\n",
       "      <td>45000.0</td>\n",
       "      <td>2013-01-12 00:20:50</td>\n",
       "      <td>220.0</td>\n",
       "      <td>failed</td>\n",
       "      <td>3</td>\n",
       "      <td>US</td>\n",
       "      <td>220.0</td>\n",
       "      <td>220.0</td>\n",
       "      <td>45000.00</td>\n",
       "    </tr>\n",
       "    <tr>\n",
       "      <th>3</th>\n",
       "      <td>1000007540</td>\n",
       "      <td>ToshiCapital Rekordz Needs Help to Complete Album</td>\n",
       "      <td>Music</td>\n",
       "      <td>Music</td>\n",
       "      <td>USD</td>\n",
       "      <td>2012-04-16</td>\n",
       "      <td>5000.0</td>\n",
       "      <td>2012-03-17 03:24:11</td>\n",
       "      <td>1.0</td>\n",
       "      <td>failed</td>\n",
       "      <td>1</td>\n",
       "      <td>US</td>\n",
       "      <td>1.0</td>\n",
       "      <td>1.0</td>\n",
       "      <td>5000.00</td>\n",
       "    </tr>\n",
       "    <tr>\n",
       "      <th>4</th>\n",
       "      <td>1000011046</td>\n",
       "      <td>Community Film Project: The Art of Neighborhoo...</td>\n",
       "      <td>Film &amp; Video</td>\n",
       "      <td>Film &amp; Video</td>\n",
       "      <td>USD</td>\n",
       "      <td>2015-08-29</td>\n",
       "      <td>19500.0</td>\n",
       "      <td>2015-07-04 08:35:03</td>\n",
       "      <td>1283.0</td>\n",
       "      <td>canceled</td>\n",
       "      <td>14</td>\n",
       "      <td>US</td>\n",
       "      <td>1283.0</td>\n",
       "      <td>1283.0</td>\n",
       "      <td>19500.00</td>\n",
       "    </tr>\n",
       "  </tbody>\n",
       "</table>\n",
       "</div>"
      ],
      "text/plain": [
       "           ID                                               name  \\\n",
       "0  1000002330                    The Songs of Adelaide & Abullah   \n",
       "1  1000003930      Greeting From Earth: ZGAC Arts Capsule For ET   \n",
       "2  1000004038                                     Where is Hank?   \n",
       "3  1000007540  ToshiCapital Rekordz Needs Help to Complete Album   \n",
       "4  1000011046  Community Film Project: The Art of Neighborhoo...   \n",
       "\n",
       "         category main_category currency    deadline     goal  \\\n",
       "0          Poetry    Publishing      GBP  2015-10-09   1000.0   \n",
       "1  Narrative Film  Film & Video      USD  2017-11-01  30000.0   \n",
       "2  Narrative Film  Film & Video      USD  2013-02-26  45000.0   \n",
       "3           Music         Music      USD  2012-04-16   5000.0   \n",
       "4    Film & Video  Film & Video      USD  2015-08-29  19500.0   \n",
       "\n",
       "              launched  pledged     state  backers country  usd pledged  \\\n",
       "0  2015-08-11 12:12:28      0.0    failed        0      GB          0.0   \n",
       "1  2017-09-02 04:43:57   2421.0    failed       15      US        100.0   \n",
       "2  2013-01-12 00:20:50    220.0    failed        3      US        220.0   \n",
       "3  2012-03-17 03:24:11      1.0    failed        1      US          1.0   \n",
       "4  2015-07-04 08:35:03   1283.0  canceled       14      US       1283.0   \n",
       "\n",
       "   usd_pledged_real  usd_goal_real  \n",
       "0               0.0        1533.95  \n",
       "1            2421.0       30000.00  \n",
       "2             220.0       45000.00  \n",
       "3               1.0        5000.00  \n",
       "4            1283.0       19500.00  "
      ]
     },
     "execution_count": 4,
     "metadata": {},
     "output_type": "execute_result"
    }
   ],
   "source": [
    "# Your code here:\n",
    "\n",
    "data.head()"
   ]
  },
  {
   "cell_type": "markdown",
   "metadata": {},
   "source": [
    "Import the `mode` function from `scipy.stats` and find the mode of the `country` and `currency` column."
   ]
  },
  {
   "cell_type": "code",
   "execution_count": 5,
   "metadata": {},
   "outputs": [
    {
     "name": "stderr",
     "output_type": "stream",
     "text": [
      "C:\\Users\\biggu\\AppData\\Local\\Temp\\ipykernel_8528\\2342231370.py:7: FutureWarning: Unlike other reduction functions (e.g. `skew`, `kurtosis`), the default behavior of `mode` typically preserves the axis it acts along. In SciPy 1.11.0, this behavior will change: the default value of `keepdims` will become False, the `axis` over which the statistic is taken will be eliminated, and the value None will no longer be accepted. Set `keepdims` to True or False to avoid this warning.\n",
      "  country_mode = mode(data['country'])\n",
      "C:\\Users\\biggu\\AppData\\Local\\Temp\\ipykernel_8528\\2342231370.py:7: DeprecationWarning: Support for non-numeric arrays has been deprecated as of SciPy 1.9.0 and will be removed in 1.11.0. `pandas.DataFrame.mode` can be used instead, see https://pandas.pydata.org/docs/reference/api/pandas.DataFrame.mode.html.\n",
      "  country_mode = mode(data['country'])\n",
      "C:\\Users\\biggu\\AppData\\Local\\Temp\\ipykernel_8528\\2342231370.py:8: FutureWarning: Unlike other reduction functions (e.g. `skew`, `kurtosis`), the default behavior of `mode` typically preserves the axis it acts along. In SciPy 1.11.0, this behavior will change: the default value of `keepdims` will become False, the `axis` over which the statistic is taken will be eliminated, and the value None will no longer be accepted. Set `keepdims` to True or False to avoid this warning.\n",
      "  currency_mode = mode(data['currency'])\n"
     ]
    },
    {
     "name": "stdout",
     "output_type": "stream",
     "text": [
      "Mode of country column: ModeResult(mode=array(['US'], dtype=object), count=array([292627]))\n",
      "Mode of currency column: ModeResult(mode=array(['USD'], dtype=object), count=array([295365]))\n"
     ]
    },
    {
     "name": "stderr",
     "output_type": "stream",
     "text": [
      "C:\\Users\\biggu\\AppData\\Local\\Temp\\ipykernel_8528\\2342231370.py:8: DeprecationWarning: Support for non-numeric arrays has been deprecated as of SciPy 1.9.0 and will be removed in 1.11.0. `pandas.DataFrame.mode` can be used instead, see https://pandas.pydata.org/docs/reference/api/pandas.DataFrame.mode.html.\n",
      "  currency_mode = mode(data['currency'])\n"
     ]
    }
   ],
   "source": [
    "# Your code here:\n",
    "\n",
    "from scipy.stats import mode\n",
    "\n",
    "\n",
    "\n",
    "country_mode = mode(data['country'])\n",
    "currency_mode = mode(data['currency'])\n",
    "\n",
    "print(\"Mode of country column:\", country_mode)\n",
    "print(\"Mode of currency column:\", currency_mode)"
   ]
  },
  {
   "cell_type": "markdown",
   "metadata": {},
   "source": [
    "The trimmed mean is a function that computes the mean of the data with observations removed. The most common way to compute a trimmed mean is by specifying a percentage and then removing elements from both ends. However, we can also specify a threshold on both ends. The goal of this function is to create a more robust method of computing the mean that is less influenced by outliers. SciPy contains a function called `tmean` for computing the trimmed mean. \n",
    "\n",
    "In the cell below, import the `tmean` function and then find the 75th percentile of the `goal` column. Compute the trimmed mean between 0 and the 75th percentile of the column. Read more about the `tmean` function [here](https://docs.scipy.org/doc/scipy/reference/generated/scipy.stats.tmean.html#scipy.stats.tmean)."
   ]
  },
  {
   "cell_type": "code",
   "execution_count": 17,
   "metadata": {},
   "outputs": [
    {
     "name": "stdout",
     "output_type": "stream",
     "text": [
      "75th percentile of 'goal' column: 16000.0\n",
      "Trimmed mean between 0 and the 75th percentile of 'goal' column: 4874.150287106897\n"
     ]
    }
   ],
   "source": [
    "# Your code here:\n",
    "\n",
    "q75 = np.percentile(data['goal'], 75)\n",
    "\n",
    "# # Compute the trimmed mean between 0 and the 75th percentile of the column\n",
    "tmean = np.mean(data['goal'][(data['goal'] >= 0) & (data['goal'] <= q75)])\n",
    "\n",
    "print(\"75th percentile of 'goal' column:\", q75)\n",
    "print(\"Trimmed mean between 0 and the 75th percentile of 'goal' column:\", tmean)"
   ]
  },
  {
   "cell_type": "markdown",
   "metadata": {},
   "source": [
    "#### SciPy contains various statistical tests. One of the tests is Fisher's exact test. This test is used for contingency tables. \n",
    "\n",
    "The test originates from the \"Lady Tasting Tea\" experiment. In 1935, Fisher published the results of the experiment in his book. The experiment was based on a claim by Muriel Bristol that she can taste whether tea or milk was first poured into the cup. Fisher devised this test to disprove her claim. The null hypothesis is that the treatments do not affect outcomes, while the alternative hypothesis is that the treatment does affect outcome. To read more about Fisher's exact test, see:\n",
    "\n",
    "* [Wikipedia's explanation](http://b.link/test61)\n",
    "* [A cool deep explanation](http://b.link/handbook47)\n",
    "* [An explanation with some important Fisher's considerations](http://b.link/significance76)\n",
    "\n",
    "Let's perform Fisher's exact test on our KickStarter data. We intend to test the hypothesis that the choice of currency has an impact on meeting the pledge goal. We'll start by creating two derived columns in our dataframe. The first will contain 1 if the amount of money in `usd_pledged_real` is greater than the amount of money in `usd_goal_real`. We can compute this by using the `np.where` function. If the amount in one column is greater than the other, enter a value of 1, otherwise enter a value of zero. Add this column to the dataframe and name it `goal_met`."
   ]
  },
  {
   "cell_type": "code",
   "execution_count": 19,
   "metadata": {},
   "outputs": [],
   "source": [
    "# Your code here:\n",
    "from scipy.stats import fisher_exact\n",
    "data['goal_met'] = np.where(data['usd_pledged_real'] >= data['usd_goal_real'], 1, 0)\n"
   ]
  },
  {
   "cell_type": "markdown",
   "metadata": {},
   "source": [
    "Next, create a column that checks whether the currency of the project is in US Dollars. Create a column called `usd` using the `np.where` function where if the currency is US Dollars, assign a value of 1 to the row and 0 otherwise."
   ]
  },
  {
   "cell_type": "code",
   "execution_count": 21,
   "metadata": {},
   "outputs": [],
   "source": [
    "# Your code here:\n",
    "\n",
    "data['usd'] = np.where(data['currency'] == 'USD', 1, 0)"
   ]
  },
  {
   "cell_type": "markdown",
   "metadata": {},
   "source": [
    "Now create a contingency table using the `pd.crosstab` function in the cell below to compare the `goal_met` and `usd` columns."
   ]
  },
  {
   "cell_type": "markdown",
   "metadata": {},
   "source": [
    "Import the `fisher_exact` function from `scipy.stats` and conduct the hypothesis test on the contingency table that you have generated above. You can read more about the `fisher_exact` function [here](https://docs.scipy.org/doc/scipy/reference/generated/scipy.stats.fisher_exact.html#scipy.stats.fisher_exact). The output of the function should be the odds ratio and the p-value. The p-value will provide you with the outcome of the test."
   ]
  },
  {
   "cell_type": "code",
   "execution_count": 22,
   "metadata": {},
   "outputs": [
    {
     "name": "stdout",
     "output_type": "stream",
     "text": [
      "Odds ratio:  1.3815561400772571\n",
      "P-value:  0.0\n"
     ]
    }
   ],
   "source": [
    "# Your code here:\n",
    "\n",
    "contingency_table = pd.crosstab(data['usd'], data['goal_met'])\n",
    "\n",
    "# Perform Fisher's exact test\n",
    "odds_ratio, p_value = fisher_exact(contingency_table)\n",
    "\n",
    "# Print the odds ratio and p-value\n",
    "print(\"Odds ratio: \", odds_ratio)\n",
    "print(\"P-value: \", p_value)"
   ]
  },
  {
   "cell_type": "markdown",
   "metadata": {},
   "source": [
    "# Challenge 2 - The `interpolate` submodule\n",
    "\n",
    "This submodule allows us to interpolate between two points and create a continuous distribution based on the observed data.\n",
    "\n",
    "In the cell below, import the `interp1d` function from `scipy.interpolate` and first take a sample of 10 rows from `kickstarter`. \n",
    "\n",
    "**Make sure there are not duplicated values in `backers`**"
   ]
  },
  {
   "cell_type": "code",
   "execution_count": 23,
   "metadata": {},
   "outputs": [
    {
     "name": "stdout",
     "output_type": "stream",
     "text": [
      "                ID                                               name  \\\n",
      "174913  1889464213                           Grandma's Handmade socks   \n",
      "326661   733853030                                               Sole   \n",
      "304652   621172795                                   Le Coeur Watches   \n",
      "63848   1324598072                      Wolves and Sheep - Short Film   \n",
      "44418   1225656844                  Befriending the Enemy: Asian Carp   \n",
      "301205    60375425  The Buddha's Toolbox: The Inner Workings of Vi...   \n",
      "201137  2024270080  XT Raven - Sacred Art Of Aluminum Boat Constru...   \n",
      "10908   1054669826  Divine Feminine Art Project: Burningman 2012 F...   \n",
      "124645  1632763116  Tidy Snap  - Never Fold Clothes Again! (Canceled)   \n",
      "\n",
      "              category main_category currency    deadline      goal  \\\n",
      "174913        Footwear       Fashion      EUR  2017-01-19    4000.0   \n",
      "326661     Video Games         Games      USD  2017-09-03   15000.0   \n",
      "304652         Jewelry       Fashion      USD  2015-05-14   10000.0   \n",
      "63848           Shorts  Film & Video      USD  2016-09-10    3000.0   \n",
      "44418      Documentary  Film & Video      USD  2014-08-21   38000.0   \n",
      "301205      Publishing    Publishing      USD  2016-02-14    1500.0   \n",
      "201137        Hardware    Technology      USD  2013-11-16  380000.0   \n",
      "10908        Sculpture           Art      USD  2012-08-15    3000.0   \n",
      "124645  Product Design        Design      USD  2015-10-25   60000.0   \n",
      "\n",
      "                   launched  pledged       state  backers country  \\\n",
      "174913  2016-12-05 20:03:49    627.0      failed       23      NL   \n",
      "326661  2017-08-04 16:00:45  16286.0  successful      268      US   \n",
      "304652  2015-04-14 16:01:05  18640.0  successful      151      US   \n",
      "63848   2016-08-11 02:35:44   3396.0  successful       42      US   \n",
      "44418   2014-07-14 20:08:21      0.0      failed        0      US   \n",
      "301205  2016-01-10 00:50:53   1507.0  successful       22      US   \n",
      "201137  2013-10-16 22:50:23    210.0      failed        4      US   \n",
      "10908   2012-06-16 01:01:39   3030.0  successful       46      US   \n",
      "124645  2015-09-25 19:34:00   4112.0    canceled       75      US   \n",
      "\n",
      "        usd pledged  usd_pledged_real  usd_goal_real  goal_met  usd  \n",
      "174913       308.27            666.62        4252.79         0    0  \n",
      "326661      1740.00          16286.00       15000.00         1    1  \n",
      "304652     18640.00          18640.00       10000.00         1    1  \n",
      "63848        865.00           3396.00        3000.00         1    1  \n",
      "44418          0.00              0.00       38000.00         0    1  \n",
      "301205      1507.00           1507.00        1500.00         1    1  \n",
      "201137       210.00            210.00      380000.00         0    1  \n",
      "10908       3030.00           3030.00        3000.00         1    1  \n",
      "124645      4112.00           4112.00       60000.00         0    1  \n"
     ]
    }
   ],
   "source": [
    "# Your code here:\n",
    "from scipy.interpolate import interp1d\n",
    "\n",
    "\n",
    "sample = data.sample(n=10).drop_duplicates(subset=['backers'])\n",
    "\n",
    "# Print the sample DataFrame\n",
    "print(sample)\n"
   ]
  },
  {
   "cell_type": "markdown",
   "metadata": {},
   "source": [
    "Next, create a linear interpolation of `usd_pledged_real` as a function of the `backers`. Create a function `f` that generates a linear interpolation of `usd_pledged_real` as predicted by the amount of `backers`."
   ]
  },
  {
   "cell_type": "code",
   "execution_count": 39,
   "metadata": {},
   "outputs": [],
   "source": [
    "# Your code here:\n",
    "\n",
    "f = interp1d(data['backers'], data['usd_pledged_real'], kind='linear')\n",
    "\n",
    "\n",
    "def generate_interpolation(backers):\n",
    "    return f(backers)"
   ]
  },
  {
   "cell_type": "markdown",
   "metadata": {},
   "source": [
    "Now create a new variable called `x_new`. This variable will contain all integers between the minimum number of backers in our sample and the maximum number of backers. The goal here is to take the dataset that contains few obeservations due to sampling and fill all observations with a value using the interpolation function. \n",
    "\n",
    "Hint: one option is the `np.arange` function."
   ]
  },
  {
   "cell_type": "code",
   "execution_count": 40,
   "metadata": {},
   "outputs": [],
   "source": [
    "# Your code here:\n",
    "min_backers = data['backers'].min()\n",
    "max_backers = data['backers'].max()\n",
    "x_new = np.arange(min_backers, max_backers+1, 1)\n"
   ]
  },
  {
   "cell_type": "markdown",
   "metadata": {},
   "source": [
    "Plot function `f` for all values of `x_new`. Run the code below."
   ]
  },
  {
   "cell_type": "code",
   "execution_count": 41,
   "metadata": {},
   "outputs": [
    {
     "data": {
      "text/plain": [
       "[<matplotlib.lines.Line2D at 0x1e0a640e9a0>]"
      ]
     },
     "execution_count": 41,
     "metadata": {},
     "output_type": "execute_result"
    },
    {
     "data": {
      "image/png": "[encoded data removed]",
      "text/plain": [
       "<Figure size 640x480 with 1 Axes>"
      ]
     },
     "metadata": {},
     "output_type": "display_data"
    }
   ],
   "source": [
    "# Run this code:\n",
    "\n",
    "%matplotlib inline\n",
    "import matplotlib.pyplot as plt\n",
    "\n",
    "plt.plot(x_new, f(x_new))"
   ]
  },
  {
   "cell_type": "markdown",
   "metadata": {},
   "source": [
    "Next create a function that will generate a cubic interpolation function. Name the function `g`."
   ]
  },
  {
   "cell_type": "code",
   "execution_count": 44,
   "metadata": {},
   "outputs": [],
   "source": [
    "# Your code here:\n",
    "def g(x, y):\n",
    "    f = interp1d(x, y, kind='cubic')\n",
    "    return f"
   ]
  },
  {
   "cell_type": "markdown",
   "metadata": {},
   "source": [
    "# Bonus Challenge - The Binomial Distribution\n",
    "\n",
    "The binomial distribution allows us to calculate the probability of k successes in n trials for a random variable with two possible outcomes (which we typically label success and failure).  \n",
    "\n",
    "The probability of success is typically denoted by p and the probability of failure is denoted by 1-p.\n",
    "\n",
    "The `scipy.stats` submodule contains a `binom` function for computing the probabilites of a random variable with the binomial distribution. You may read more about the binomial distribution [here](http://b.link/binomial55)\n",
    "\n",
    "* In the cell below, compute the probability that a dice lands on 5 exactly 3 times in 8 tries.\n"
   ]
  },
  {
   "cell_type": "code",
   "execution_count": null,
   "metadata": {},
   "outputs": [],
   "source": [
    "# Your code here:\n",
    "\n"
   ]
  },
  {
   "cell_type": "markdown",
   "metadata": {},
   "source": [
    "* Do a simulation for the last event: do a function that simulate 8 tries and return a 1 if the result is 5 exactly 3 times and 0 if not. Now launch your simulation."
   ]
  },
  {
   "cell_type": "code",
   "execution_count": null,
   "metadata": {},
   "outputs": [],
   "source": [
    "# Your code here:\n"
   ]
  },
  {
   "cell_type": "markdown",
   "metadata": {},
   "source": [
    "* Launch 10 simulations and represent the result in a bar plot. Now launch 1000 simulations and represent it. What do you see?"
   ]
  },
  {
   "cell_type": "code",
   "execution_count": null,
   "metadata": {},
   "outputs": [],
   "source": [
    "# Your code here:\n"
   ]
  }
 ],
 "metadata": {
  "kernelspec": {
   "display_name": "Python 3 (ipykernel)",
   "language": "python",
   "name": "python3"
  },
  "language_info": {
   "codemirror_mode": {
    "name": "ipython",
    "version": 3
   },
   "file_extension": ".py",
   "mimetype": "text/x-python",
   "name": "python",
   "nbconvert_exporter": "python",
   "pygments_lexer": "ipython3",
   "version": "3.9.13"
  }
 },
 "nbformat": 4,
 "nbformat_minor": 2
}
