{
 "cells": [
  {
   "cell_type": "markdown",
   "metadata": {},
   "source": [
    "# Before your start:\n",
    "- Read the README.md file\n",
    "- Comment as much as you can and use the resources (README.md file)\n",
    "- Happy learning!"
   ]
  },
  {
   "cell_type": "code",
   "execution_count": 4,
   "metadata": {},
   "outputs": [],
   "source": [
    "#import numpy and pandas\n",
    "\n",
    "import pandas as pd\n",
    "import numpy as np\n",
    "\n",
    "import scipy.stats as st\n"
   ]
  },
  {
   "cell_type": "markdown",
   "metadata": {},
   "source": [
    "# Challenge 1 - The `stats` Submodule\n",
    "\n",
    "This submodule contains statistical functions for conducting hypothesis tests, producing various distributions and other useful tools. Let's examine this submodule using the KickStarter dataset. Load the data using the `ks-projects-201801.csv` file"
   ]
  },
  {
   "cell_type": "code",
   "execution_count": 5,
   "metadata": {},
   "outputs": [],
   "source": [
    "# Your code here:\n",
    "kickstart = pd.read_csv('..\\ks-projects-201801.csv')"
   ]
  },
  {
   "cell_type": "markdown",
   "metadata": {},
   "source": [
    "Now print the `head` function to examine the dataset."
   ]
  },
  {
   "cell_type": "code",
   "execution_count": 6,
   "metadata": {},
   "outputs": [
    {
     "data": {
      "text/html": [
       "<div>\n",
       "<style scoped>\n",
       "    .dataframe tbody tr th:only-of-type {\n",
       "        vertical-align: middle;\n",
       "    }\n",
       "\n",
       "    .dataframe tbody tr th {\n",
       "        vertical-align: top;\n",
       "    }\n",
       "\n",
       "    .dataframe thead th {\n",
       "        text-align: right;\n",
       "    }\n",
       "</style>\n",
       "<table border=\"1\" class=\"dataframe\">\n",
       "  <thead>\n",
       "    <tr style=\"text-align: right;\">\n",
       "      <th></th>\n",
       "      <th>ID</th>\n",
       "      <th>name</th>\n",
       "      <th>category</th>\n",
       "      <th>main_category</th>\n",
       "      <th>currency</th>\n",
       "      <th>deadline</th>\n",
       "      <th>goal</th>\n",
       "      <th>launched</th>\n",
       "      <th>pledged</th>\n",
       "      <th>state</th>\n",
       "      <th>backers</th>\n",
       "      <th>country</th>\n",
       "      <th>usd pledged</th>\n",
       "      <th>usd_pledged_real</th>\n",
       "      <th>usd_goal_real</th>\n",
       "    </tr>\n",
       "  </thead>\n",
       "  <tbody>\n",
       "    <tr>\n",
       "      <th>0</th>\n",
       "      <td>1000002330</td>\n",
       "      <td>The Songs of Adelaide &amp; Abullah</td>\n",
       "      <td>Poetry</td>\n",
       "      <td>Publishing</td>\n",
       "      <td>GBP</td>\n",
       "      <td>2015-10-09</td>\n",
       "      <td>1000.0</td>\n",
       "      <td>2015-08-11 12:12:28</td>\n",
       "      <td>0.0</td>\n",
       "      <td>failed</td>\n",
       "      <td>0</td>\n",
       "      <td>GB</td>\n",
       "      <td>0.0</td>\n",
       "      <td>0.0</td>\n",
       "      <td>1533.95</td>\n",
       "    </tr>\n",
       "    <tr>\n",
       "      <th>1</th>\n",
       "      <td>1000003930</td>\n",
       "      <td>Greeting From Earth: ZGAC Arts Capsule For ET</td>\n",
       "      <td>Narrative Film</td>\n",
       "      <td>Film &amp; Video</td>\n",
       "      <td>USD</td>\n",
       "      <td>2017-11-01</td>\n",
       "      <td>30000.0</td>\n",
       "      <td>2017-09-02 04:43:57</td>\n",
       "      <td>2421.0</td>\n",
       "      <td>failed</td>\n",
       "      <td>15</td>\n",
       "      <td>US</td>\n",
       "      <td>100.0</td>\n",
       "      <td>2421.0</td>\n",
       "      <td>30000.00</td>\n",
       "    </tr>\n",
       "    <tr>\n",
       "      <th>2</th>\n",
       "      <td>1000004038</td>\n",
       "      <td>Where is Hank?</td>\n",
       "      <td>Narrative Film</td>\n",
       "      <td>Film &amp; Video</td>\n",
       "      <td>USD</td>\n",
       "      <td>2013-02-26</td>\n",
       "      <td>45000.0</td>\n",
       "      <td>2013-01-12 00:20:50</td>\n",
       "      <td>220.0</td>\n",
       "      <td>failed</td>\n",
       "      <td>3</td>\n",
       "      <td>US</td>\n",
       "      <td>220.0</td>\n",
       "      <td>220.0</td>\n",
       "      <td>45000.00</td>\n",
       "    </tr>\n",
       "    <tr>\n",
       "      <th>3</th>\n",
       "      <td>1000007540</td>\n",
       "      <td>ToshiCapital Rekordz Needs Help to Complete Album</td>\n",
       "      <td>Music</td>\n",
       "      <td>Music</td>\n",
       "      <td>USD</td>\n",
       "      <td>2012-04-16</td>\n",
       "      <td>5000.0</td>\n",
       "      <td>2012-03-17 03:24:11</td>\n",
       "      <td>1.0</td>\n",
       "      <td>failed</td>\n",
       "      <td>1</td>\n",
       "      <td>US</td>\n",
       "      <td>1.0</td>\n",
       "      <td>1.0</td>\n",
       "      <td>5000.00</td>\n",
       "    </tr>\n",
       "    <tr>\n",
       "      <th>4</th>\n",
       "      <td>1000011046</td>\n",
       "      <td>Community Film Project: The Art of Neighborhoo...</td>\n",
       "      <td>Film &amp; Video</td>\n",
       "      <td>Film &amp; Video</td>\n",
       "      <td>USD</td>\n",
       "      <td>2015-08-29</td>\n",
       "      <td>19500.0</td>\n",
       "      <td>2015-07-04 08:35:03</td>\n",
       "      <td>1283.0</td>\n",
       "      <td>canceled</td>\n",
       "      <td>14</td>\n",
       "      <td>US</td>\n",
       "      <td>1283.0</td>\n",
       "      <td>1283.0</td>\n",
       "      <td>19500.00</td>\n",
       "    </tr>\n",
       "  </tbody>\n",
       "</table>\n",
       "</div>"
      ],
      "text/plain": [
       "           ID                                               name  \\\n",
       "0  1000002330                    The Songs of Adelaide & Abullah   \n",
       "1  1000003930      Greeting From Earth: ZGAC Arts Capsule For ET   \n",
       "2  1000004038                                     Where is Hank?   \n",
       "3  1000007540  ToshiCapital Rekordz Needs Help to Complete Album   \n",
       "4  1000011046  Community Film Project: The Art of Neighborhoo...   \n",
       "\n",
       "         category main_category currency    deadline     goal  \\\n",
       "0          Poetry    Publishing      GBP  2015-10-09   1000.0   \n",
       "1  Narrative Film  Film & Video      USD  2017-11-01  30000.0   \n",
       "2  Narrative Film  Film & Video      USD  2013-02-26  45000.0   \n",
       "3           Music         Music      USD  2012-04-16   5000.0   \n",
       "4    Film & Video  Film & Video      USD  2015-08-29  19500.0   \n",
       "\n",
       "              launched  pledged     state  backers country  usd pledged  \\\n",
       "0  2015-08-11 12:12:28      0.0    failed        0      GB          0.0   \n",
       "1  2017-09-02 04:43:57   2421.0    failed       15      US        100.0   \n",
       "2  2013-01-12 00:20:50    220.0    failed        3      US        220.0   \n",
       "3  2012-03-17 03:24:11      1.0    failed        1      US          1.0   \n",
       "4  2015-07-04 08:35:03   1283.0  canceled       14      US       1283.0   \n",
       "\n",
       "   usd_pledged_real  usd_goal_real  \n",
       "0               0.0        1533.95  \n",
       "1            2421.0       30000.00  \n",
       "2             220.0       45000.00  \n",
       "3               1.0        5000.00  \n",
       "4            1283.0       19500.00  "
      ]
     },
     "execution_count": 6,
     "metadata": {},
     "output_type": "execute_result"
    }
   ],
   "source": [
    "# Your code here:\n",
    "\n",
    "kickstart.head()"
   ]
  },
  {
   "cell_type": "markdown",
   "metadata": {},
   "source": [
    "Import the `mode` function from `scipy.stats` and find the mode of the `country` and `currency` column."
   ]
  },
  {
   "cell_type": "code",
   "execution_count": 7,
   "metadata": {},
   "outputs": [
    {
     "name": "stdout",
     "output_type": "stream",
     "text": [
      "ModeResult(mode=array(['US'], dtype=object), count=array([292627]))\n",
      "ModeResult(mode=array(['USD'], dtype=object), count=array([295365]))\n"
     ]
    }
   ],
   "source": [
    "# Your code here:\n",
    "from scipy.stats import mode \n",
    "\n",
    "print(mode(kickstart['country']))\n",
    "print(mode(kickstart['currency']))\n"
   ]
  },
  {
   "cell_type": "markdown",
   "metadata": {},
   "source": [
    "The trimmed mean is a function that computes the mean of the data with observations removed. The most common way to compute a trimmed mean is by specifying a percentage and then removing elements from both ends. However, we can also specify a threshold on both ends. The goal of this function is to create a more robust method of computing the mean that is less influenced by outliers. SciPy contains a function called `tmean` for computing the trimmed mean. \n",
    "\n",
    "In the cell below, import the `tmean` function and then find the 75th percentile of the `goal` column. Compute the trimmed mean between 0 and the 75th percentile of the column. Read more about the `tmean` function [here](https://docs.scipy.org/doc/scipy/reference/generated/scipy.stats.tmean.html#scipy.stats.tmean)."
   ]
  },
  {
   "cell_type": "code",
   "execution_count": 8,
   "metadata": {},
   "outputs": [
    {
     "name": "stdout",
     "output_type": "stream",
     "text": [
      "16264.213857704375\n"
     ]
    }
   ],
   "source": [
    "# Your code here:\n",
    "\n",
    "from scipy.stats import tmean\n",
    "\n",
    "print(tmean(kickstart['goal'],limits = (0,len(kickstart)*.75)))\n"
   ]
  },
  {
   "cell_type": "markdown",
   "metadata": {},
   "source": [
    "#### SciPy contains various statistical tests. One of the tests is Fisher's exact test. This test is used for contingency tables. \n",
    "\n",
    "The test originates from the \"Lady Tasting Tea\" experiment. In 1935, Fisher published the results of the experiment in his book. The experiment was based on a claim by Muriel Bristol that she can taste whether tea or milk was first poured into the cup. Fisher devised this test to disprove her claim. The null hypothesis is that the treatments do not affect outcomes, while the alternative hypothesis is that the treatment does affect outcome. To read more about Fisher's exact test, see:\n",
    "\n",
    "* [Wikipedia's explanation](http://b.link/test61)\n",
    "* [A cool deep explanation](http://b.link/handbook47)\n",
    "* [An explanation with some important Fisher's considerations](http://b.link/significance76)\n",
    "\n",
    "Let's perform Fisher's exact test on our KickStarter data. We intend to test the hypothesis that the choice of currency has an impact on meeting the pledge goal. We'll start by creating two derived columns in our dataframe. The first will contain 1 if the amount of money in `usd_pledged_real` is greater than the amount of money in `usd_goal_real`. We can compute this by using the `np.where` function. If the amount in one column is greater than the other, enter a value of 1, otherwise enter a value of zero. Add this column to the dataframe and name it `goal_met`."
   ]
  },
  {
   "cell_type": "code",
   "execution_count": 9,
   "metadata": {},
   "outputs": [],
   "source": [
    "# Your code here:\n",
    "kickstart['goal_met'] = np.where(kickstart['usd_pledged_real']>kickstart['usd_goal_real'],1,0)\n"
   ]
  },
  {
   "cell_type": "markdown",
   "metadata": {},
   "source": [
    "Next, create a column that checks whether the currency of the project is in US Dollars. Create a column called `usd` using the `np.where` function where if the currency is US Dollars, assign a value of 1 to the row and 0 otherwise."
   ]
  },
  {
   "cell_type": "code",
   "execution_count": 10,
   "metadata": {},
   "outputs": [],
   "source": [
    "# Your code here:\n",
    "\n",
    "kickstart['usd'] =np.where(kickstart['currency']=='USD',1,0)"
   ]
  },
  {
   "cell_type": "markdown",
   "metadata": {},
   "source": [
    "Now create a contingency table using the `pd.crosstab` function in the cell below to compare the `goal_met` and `usd` columns."
   ]
  },
  {
   "cell_type": "code",
   "execution_count": 11,
   "metadata": {},
   "outputs": [
    {
     "data": {
      "text/html": [
       "<div>\n",
       "<style scoped>\n",
       "    .dataframe tbody tr th:only-of-type {\n",
       "        vertical-align: middle;\n",
       "    }\n",
       "\n",
       "    .dataframe tbody tr th {\n",
       "        vertical-align: top;\n",
       "    }\n",
       "\n",
       "    .dataframe thead th {\n",
       "        text-align: right;\n",
       "    }\n",
       "</style>\n",
       "<table border=\"1\" class=\"dataframe\">\n",
       "  <thead>\n",
       "    <tr style=\"text-align: right;\">\n",
       "      <th>usd</th>\n",
       "      <th>0</th>\n",
       "      <th>1</th>\n",
       "    </tr>\n",
       "    <tr>\n",
       "      <th>goal_met</th>\n",
       "      <th></th>\n",
       "      <th></th>\n",
       "    </tr>\n",
       "  </thead>\n",
       "  <tbody>\n",
       "    <tr>\n",
       "      <th>0</th>\n",
       "      <td>58685</td>\n",
       "      <td>187130</td>\n",
       "    </tr>\n",
       "    <tr>\n",
       "      <th>1</th>\n",
       "      <td>24611</td>\n",
       "      <td>108235</td>\n",
       "    </tr>\n",
       "  </tbody>\n",
       "</table>\n",
       "</div>"
      ],
      "text/plain": [
       "usd           0       1\n",
       "goal_met               \n",
       "0         58685  187130\n",
       "1         24611  108235"
      ]
     },
     "execution_count": 11,
     "metadata": {},
     "output_type": "execute_result"
    }
   ],
   "source": [
    "# Your code here:\n",
    "cont_tab = pd.crosstab(kickstart['goal_met'], kickstart['usd'])\n",
    "cont_tab\n"
   ]
  },
  {
   "cell_type": "markdown",
   "metadata": {},
   "source": [
    "Import the `fisher_exact` function from `scipy.stats` and conduct the hypothesis test on the contingency table that you have generated above. You can read more about the `fisher_exact` function [here](https://docs.scipy.org/doc/scipy/reference/generated/scipy.stats.fisher_exact.html#scipy.stats.fisher_exact). The output of the function should be the odds ratio and the p-value. The p-value will provide you with the outcome of the test."
   ]
  },
  {
   "cell_type": "code",
   "execution_count": 12,
   "metadata": {},
   "outputs": [
    {
     "name": "stdout",
     "output_type": "stream",
     "text": [
      "1.3791838163150314 2.994e-320\n",
      "True\n",
      "Pvalue is lower than alpha. Currency does not have impact on pledge goal\n"
     ]
    }
   ],
   "source": [
    "# Your code here:\n",
    "from scipy.stats import fisher_exact\n",
    "\n",
    "alpha = .05 \n",
    "\n",
    "stat,p_value = st.fisher_exact(cont_tab)\n",
    "print(stat,p_value)\n",
    "print(p_value<alpha)\n",
    "print(\"Pvalue is lower than alpha. Currency does not have impact on pledge goal\")"
   ]
  },
  {
   "cell_type": "markdown",
   "metadata": {},
   "source": [
    "# Challenge 2 - The `interpolate` submodule\n",
    "\n",
    "This submodule allows us to interpolate between two points and create a continuous distribution based on the observed data.\n",
    "\n",
    "In the cell below, import the `interp1d` function from `scipy.interpolate` and first take a sample of 10 rows from `kickstarter`. \n",
    "\n",
    "**Make sure there are not duplicated values in `backers`**"
   ]
  },
  {
   "cell_type": "code",
   "execution_count": 13,
   "metadata": {},
   "outputs": [
    {
     "data": {
      "text/html": [
       "<div>\n",
       "<style scoped>\n",
       "    .dataframe tbody tr th:only-of-type {\n",
       "        vertical-align: middle;\n",
       "    }\n",
       "\n",
       "    .dataframe tbody tr th {\n",
       "        vertical-align: top;\n",
       "    }\n",
       "\n",
       "    .dataframe thead th {\n",
       "        text-align: right;\n",
       "    }\n",
       "</style>\n",
       "<table border=\"1\" class=\"dataframe\">\n",
       "  <thead>\n",
       "    <tr style=\"text-align: right;\">\n",
       "      <th></th>\n",
       "      <th>ID</th>\n",
       "      <th>name</th>\n",
       "      <th>category</th>\n",
       "      <th>main_category</th>\n",
       "      <th>currency</th>\n",
       "      <th>deadline</th>\n",
       "      <th>goal</th>\n",
       "      <th>launched</th>\n",
       "      <th>pledged</th>\n",
       "      <th>state</th>\n",
       "      <th>backers</th>\n",
       "      <th>country</th>\n",
       "      <th>usd pledged</th>\n",
       "      <th>usd_pledged_real</th>\n",
       "      <th>usd_goal_real</th>\n",
       "      <th>goal_met</th>\n",
       "      <th>usd</th>\n",
       "    </tr>\n",
       "  </thead>\n",
       "  <tbody>\n",
       "    <tr>\n",
       "      <th>168226</th>\n",
       "      <td>1855845632</td>\n",
       "      <td>J-World: Welcome to imagiNation</td>\n",
       "      <td>Mobile Games</td>\n",
       "      <td>Games</td>\n",
       "      <td>USD</td>\n",
       "      <td>2017-10-15</td>\n",
       "      <td>10000.0</td>\n",
       "      <td>2017-08-16 00:15:06</td>\n",
       "      <td>25.0</td>\n",
       "      <td>failed</td>\n",
       "      <td>1</td>\n",
       "      <td>US</td>\n",
       "      <td>0.00</td>\n",
       "      <td>25.00</td>\n",
       "      <td>10000.00</td>\n",
       "      <td>0</td>\n",
       "      <td>1</td>\n",
       "    </tr>\n",
       "    <tr>\n",
       "      <th>255876</th>\n",
       "      <td>37113472</td>\n",
       "      <td>The River Rock Band--Drawn From the Well. Stud...</td>\n",
       "      <td>Faith</td>\n",
       "      <td>Music</td>\n",
       "      <td>USD</td>\n",
       "      <td>2016-03-15</td>\n",
       "      <td>5500.0</td>\n",
       "      <td>2016-02-09 17:59:20</td>\n",
       "      <td>5555.0</td>\n",
       "      <td>successful</td>\n",
       "      <td>69</td>\n",
       "      <td>US</td>\n",
       "      <td>5555.00</td>\n",
       "      <td>5555.00</td>\n",
       "      <td>5500.00</td>\n",
       "      <td>1</td>\n",
       "      <td>1</td>\n",
       "    </tr>\n",
       "    <tr>\n",
       "      <th>301135</th>\n",
       "      <td>603358126</td>\n",
       "      <td>BE's Production Film</td>\n",
       "      <td>Experimental</td>\n",
       "      <td>Film &amp; Video</td>\n",
       "      <td>USD</td>\n",
       "      <td>2015-07-07</td>\n",
       "      <td>1000.0</td>\n",
       "      <td>2015-06-07 07:42:35</td>\n",
       "      <td>5.0</td>\n",
       "      <td>failed</td>\n",
       "      <td>1</td>\n",
       "      <td>US</td>\n",
       "      <td>5.00</td>\n",
       "      <td>5.00</td>\n",
       "      <td>1000.00</td>\n",
       "      <td>0</td>\n",
       "      <td>1</td>\n",
       "    </tr>\n",
       "    <tr>\n",
       "      <th>116502</th>\n",
       "      <td>1591850155</td>\n",
       "      <td>Primal Hero - Online Browser-Based Monster Fig...</td>\n",
       "      <td>Video Games</td>\n",
       "      <td>Games</td>\n",
       "      <td>USD</td>\n",
       "      <td>2014-02-12</td>\n",
       "      <td>40000.0</td>\n",
       "      <td>2014-01-13 23:20:24</td>\n",
       "      <td>1973.0</td>\n",
       "      <td>failed</td>\n",
       "      <td>36</td>\n",
       "      <td>US</td>\n",
       "      <td>1973.00</td>\n",
       "      <td>1973.00</td>\n",
       "      <td>40000.00</td>\n",
       "      <td>0</td>\n",
       "      <td>1</td>\n",
       "    </tr>\n",
       "    <tr>\n",
       "      <th>131160</th>\n",
       "      <td>1665771453</td>\n",
       "      <td>Flowers By Number | DIY Flower Arrangements</td>\n",
       "      <td>DIY</td>\n",
       "      <td>Crafts</td>\n",
       "      <td>USD</td>\n",
       "      <td>2015-12-01</td>\n",
       "      <td>20000.0</td>\n",
       "      <td>2015-11-01 10:44:56</td>\n",
       "      <td>13914.0</td>\n",
       "      <td>failed</td>\n",
       "      <td>50</td>\n",
       "      <td>US</td>\n",
       "      <td>13914.00</td>\n",
       "      <td>13914.00</td>\n",
       "      <td>20000.00</td>\n",
       "      <td>0</td>\n",
       "      <td>1</td>\n",
       "    </tr>\n",
       "    <tr>\n",
       "      <th>183960</th>\n",
       "      <td>1936618996</td>\n",
       "      <td>Chubbys BBQ Food Truck- Portland, Maine</td>\n",
       "      <td>Food Trucks</td>\n",
       "      <td>Food</td>\n",
       "      <td>USD</td>\n",
       "      <td>2015-04-09</td>\n",
       "      <td>17500.0</td>\n",
       "      <td>2015-03-10 02:03:46</td>\n",
       "      <td>216.0</td>\n",
       "      <td>failed</td>\n",
       "      <td>4</td>\n",
       "      <td>US</td>\n",
       "      <td>216.00</td>\n",
       "      <td>216.00</td>\n",
       "      <td>17500.00</td>\n",
       "      <td>0</td>\n",
       "      <td>1</td>\n",
       "    </tr>\n",
       "    <tr>\n",
       "      <th>65661</th>\n",
       "      <td>1333931625</td>\n",
       "      <td>Bring the Flood's Debut FULL LENGTH ALBUM</td>\n",
       "      <td>Rock</td>\n",
       "      <td>Music</td>\n",
       "      <td>USD</td>\n",
       "      <td>2013-11-04</td>\n",
       "      <td>4500.0</td>\n",
       "      <td>2013-10-05 01:52:18</td>\n",
       "      <td>550.0</td>\n",
       "      <td>failed</td>\n",
       "      <td>14</td>\n",
       "      <td>US</td>\n",
       "      <td>550.00</td>\n",
       "      <td>550.00</td>\n",
       "      <td>4500.00</td>\n",
       "      <td>0</td>\n",
       "      <td>1</td>\n",
       "    </tr>\n",
       "    <tr>\n",
       "      <th>250597</th>\n",
       "      <td>344649785</td>\n",
       "      <td>New studio album from Darktown Jubilee!</td>\n",
       "      <td>Indie Rock</td>\n",
       "      <td>Music</td>\n",
       "      <td>GBP</td>\n",
       "      <td>2014-12-22</td>\n",
       "      <td>4000.0</td>\n",
       "      <td>2014-12-01 18:02:12</td>\n",
       "      <td>4081.0</td>\n",
       "      <td>successful</td>\n",
       "      <td>45</td>\n",
       "      <td>GB</td>\n",
       "      <td>6386.18</td>\n",
       "      <td>6340.21</td>\n",
       "      <td>6214.36</td>\n",
       "      <td>1</td>\n",
       "      <td>0</td>\n",
       "    </tr>\n",
       "    <tr>\n",
       "      <th>117841</th>\n",
       "      <td>159875043</td>\n",
       "      <td>Capture: Bible Edition</td>\n",
       "      <td>Games</td>\n",
       "      <td>Games</td>\n",
       "      <td>USD</td>\n",
       "      <td>2015-05-24</td>\n",
       "      <td>10000.0</td>\n",
       "      <td>2015-04-24 20:07:30</td>\n",
       "      <td>11.0</td>\n",
       "      <td>failed</td>\n",
       "      <td>2</td>\n",
       "      <td>US</td>\n",
       "      <td>11.00</td>\n",
       "      <td>11.00</td>\n",
       "      <td>10000.00</td>\n",
       "      <td>0</td>\n",
       "      <td>1</td>\n",
       "    </tr>\n",
       "    <tr>\n",
       "      <th>158905</th>\n",
       "      <td>1808267612</td>\n",
       "      <td>A Novel That Won't Quit Needs One More Boost</td>\n",
       "      <td>Fiction</td>\n",
       "      <td>Publishing</td>\n",
       "      <td>USD</td>\n",
       "      <td>2011-06-22</td>\n",
       "      <td>12000.0</td>\n",
       "      <td>2011-05-23 17:36:01</td>\n",
       "      <td>12700.0</td>\n",
       "      <td>successful</td>\n",
       "      <td>98</td>\n",
       "      <td>US</td>\n",
       "      <td>12700.00</td>\n",
       "      <td>12700.00</td>\n",
       "      <td>12000.00</td>\n",
       "      <td>1</td>\n",
       "      <td>1</td>\n",
       "    </tr>\n",
       "  </tbody>\n",
       "</table>\n",
       "</div>"
      ],
      "text/plain": [
       "                ID                                               name  \\\n",
       "168226  1855845632                    J-World: Welcome to imagiNation   \n",
       "255876    37113472  The River Rock Band--Drawn From the Well. Stud...   \n",
       "301135   603358126                               BE's Production Film   \n",
       "116502  1591850155  Primal Hero - Online Browser-Based Monster Fig...   \n",
       "131160  1665771453        Flowers By Number | DIY Flower Arrangements   \n",
       "183960  1936618996            Chubbys BBQ Food Truck- Portland, Maine   \n",
       "65661   1333931625          Bring the Flood's Debut FULL LENGTH ALBUM   \n",
       "250597   344649785            New studio album from Darktown Jubilee!   \n",
       "117841   159875043                             Capture: Bible Edition   \n",
       "158905  1808267612       A Novel That Won't Quit Needs One More Boost   \n",
       "\n",
       "            category main_category currency    deadline     goal  \\\n",
       "168226  Mobile Games         Games      USD  2017-10-15  10000.0   \n",
       "255876         Faith         Music      USD  2016-03-15   5500.0   \n",
       "301135  Experimental  Film & Video      USD  2015-07-07   1000.0   \n",
       "116502   Video Games         Games      USD  2014-02-12  40000.0   \n",
       "131160           DIY        Crafts      USD  2015-12-01  20000.0   \n",
       "183960   Food Trucks          Food      USD  2015-04-09  17500.0   \n",
       "65661           Rock         Music      USD  2013-11-04   4500.0   \n",
       "250597    Indie Rock         Music      GBP  2014-12-22   4000.0   \n",
       "117841         Games         Games      USD  2015-05-24  10000.0   \n",
       "158905       Fiction    Publishing      USD  2011-06-22  12000.0   \n",
       "\n",
       "                   launched  pledged       state  backers country  \\\n",
       "168226  2017-08-16 00:15:06     25.0      failed        1      US   \n",
       "255876  2016-02-09 17:59:20   5555.0  successful       69      US   \n",
       "301135  2015-06-07 07:42:35      5.0      failed        1      US   \n",
       "116502  2014-01-13 23:20:24   1973.0      failed       36      US   \n",
       "131160  2015-11-01 10:44:56  13914.0      failed       50      US   \n",
       "183960  2015-03-10 02:03:46    216.0      failed        4      US   \n",
       "65661   2013-10-05 01:52:18    550.0      failed       14      US   \n",
       "250597  2014-12-01 18:02:12   4081.0  successful       45      GB   \n",
       "117841  2015-04-24 20:07:30     11.0      failed        2      US   \n",
       "158905  2011-05-23 17:36:01  12700.0  successful       98      US   \n",
       "\n",
       "        usd pledged  usd_pledged_real  usd_goal_real  goal_met  usd  \n",
       "168226         0.00             25.00       10000.00         0    1  \n",
       "255876      5555.00           5555.00        5500.00         1    1  \n",
       "301135         5.00              5.00        1000.00         0    1  \n",
       "116502      1973.00           1973.00       40000.00         0    1  \n",
       "131160     13914.00          13914.00       20000.00         0    1  \n",
       "183960       216.00            216.00       17500.00         0    1  \n",
       "65661        550.00            550.00        4500.00         0    1  \n",
       "250597      6386.18           6340.21        6214.36         1    0  \n",
       "117841        11.00             11.00       10000.00         0    1  \n",
       "158905     12700.00          12700.00       12000.00         1    1  "
      ]
     },
     "execution_count": 13,
     "metadata": {},
     "output_type": "execute_result"
    }
   ],
   "source": [
    "# Your code here:\n",
    "\n",
    "from scipy.interpolate import interp1d \n",
    "\n",
    "kick_sample = kickstart.sample(10)\n",
    "kick_sample\n",
    "\n"
   ]
  },
  {
   "cell_type": "markdown",
   "metadata": {},
   "source": [
    "Next, create a linear interpolation of `usd_pledged_real` as a function of the `backers`. Create a function `f` that generates a linear interpolation of `usd_pledged_real` as predicted by the amount of `backers`."
   ]
  },
  {
   "cell_type": "code",
   "execution_count": 14,
   "metadata": {},
   "outputs": [
    {
     "data": {
      "text/plain": [
       "<scipy.interpolate._interpolate.interp1d at 0x1e26198df40>"
      ]
     },
     "execution_count": 14,
     "metadata": {},
     "output_type": "execute_result"
    }
   ],
   "source": [
    "# Your code here:\n",
    "\n",
    "f = interp1d(kick_sample['usd_pledged_real'],kick_sample['backers'])\n",
    "f"
   ]
  },
  {
   "cell_type": "markdown",
   "metadata": {},
   "source": [
    "Now create a new variable called `x_new`. This variable will contain all integers between the minimum number of backers in our sample and the maximum number of backers. The goal here is to take the dataset that contains few obeservations due to sampling and fill all observations with a value using the interpolation function. \n",
    "\n",
    "Hint: one option is the `np.arange` function."
   ]
  },
  {
   "cell_type": "code",
   "execution_count": 17,
   "metadata": {},
   "outputs": [
    {
     "data": {
      "text/plain": [
       "array([ 1,  2,  3,  4,  5,  6,  7,  8,  9, 10, 11, 12, 13, 14, 15, 16, 17,\n",
       "       18, 19, 20, 21, 22, 23, 24, 25, 26, 27, 28, 29, 30, 31, 32, 33, 34,\n",
       "       35, 36, 37, 38, 39, 40, 41, 42, 43, 44, 45, 46, 47, 48, 49, 50, 51,\n",
       "       52, 53, 54, 55, 56, 57, 58, 59, 60, 61, 62, 63, 64, 65, 66, 67, 68,\n",
       "       69, 70, 71, 72, 73, 74, 75, 76, 77, 78, 79, 80, 81, 82, 83, 84, 85,\n",
       "       86, 87, 88, 89, 90, 91, 92, 93, 94, 95, 96, 97, 98])"
      ]
     },
     "execution_count": 17,
     "metadata": {},
     "output_type": "execute_result"
    }
   ],
   "source": [
    "# Your code here:\n",
    "x_new = np.arange(kick_sample['backers'].min(), kick_sample['backers'].max()+1)\n",
    "x_new\n"
   ]
  },
  {
   "cell_type": "markdown",
   "metadata": {},
   "source": [
    "Plot function `f` for all values of `x_new`. Run the code below."
   ]
  },
  {
   "cell_type": "code",
   "execution_count": 19,
   "metadata": {},
   "outputs": [
    {
     "ename": "ValueError",
     "evalue": "A value in x_new is below the interpolation range.",
     "output_type": "error",
     "traceback": [
      "\u001b[1;31m---------------------------------------------------------------------------\u001b[0m",
      "\u001b[1;31mValueError\u001b[0m                                Traceback (most recent call last)",
      "\u001b[1;32mc:\\Users\\cdynm\\Desktop\\Ironhack\\Labs\\lab-intro-to-scipy\\your-code\\main.ipynb Cell 26\u001b[0m in \u001b[0;36m<cell line: 6>\u001b[1;34m()\u001b[0m\n\u001b[0;32m      <a href='vscode-notebook-cell:/c%3A/Users/cdynm/Desktop/Ironhack/Labs/lab-intro-to-scipy/your-code/main.ipynb#X34sZmlsZQ%3D%3D?line=0'>1</a>\u001b[0m \u001b[39m# Run this code:\u001b[39;00m\n\u001b[0;32m      <a href='vscode-notebook-cell:/c%3A/Users/cdynm/Desktop/Ironhack/Labs/lab-intro-to-scipy/your-code/main.ipynb#X34sZmlsZQ%3D%3D?line=3'>4</a>\u001b[0m \u001b[39mimport\u001b[39;00m \u001b[39mmatplotlib\u001b[39;00m\u001b[39m.\u001b[39;00m\u001b[39mpyplot\u001b[39;00m \u001b[39mas\u001b[39;00m \u001b[39mplt\u001b[39;00m\n\u001b[1;32m----> <a href='vscode-notebook-cell:/c%3A/Users/cdynm/Desktop/Ironhack/Labs/lab-intro-to-scipy/your-code/main.ipynb#X34sZmlsZQ%3D%3D?line=5'>6</a>\u001b[0m plt\u001b[39m.\u001b[39mplot(x_new, f(x_new))\n",
      "File \u001b[1;32mc:\\Users\\cdynm\\anaconda3\\envs\\julyiron\\lib\\site-packages\\scipy\\interpolate\\_polyint.py:78\u001b[0m, in \u001b[0;36m_Interpolator1D.__call__\u001b[1;34m(self, x)\u001b[0m\n\u001b[0;32m     57\u001b[0m \u001b[39m\"\"\"\u001b[39;00m\n\u001b[0;32m     58\u001b[0m \u001b[39mEvaluate the interpolant\u001b[39;00m\n\u001b[0;32m     59\u001b[0m \n\u001b[1;32m   (...)\u001b[0m\n\u001b[0;32m     75\u001b[0m \n\u001b[0;32m     76\u001b[0m \u001b[39m\"\"\"\u001b[39;00m\n\u001b[0;32m     77\u001b[0m x, x_shape \u001b[39m=\u001b[39m \u001b[39mself\u001b[39m\u001b[39m.\u001b[39m_prepare_x(x)\n\u001b[1;32m---> 78\u001b[0m y \u001b[39m=\u001b[39m \u001b[39mself\u001b[39;49m\u001b[39m.\u001b[39;49m_evaluate(x)\n\u001b[0;32m     79\u001b[0m \u001b[39mreturn\u001b[39;00m \u001b[39mself\u001b[39m\u001b[39m.\u001b[39m_finish_y(y, x_shape)\n",
      "File \u001b[1;32mc:\\Users\\cdynm\\anaconda3\\envs\\julyiron\\lib\\site-packages\\scipy\\interpolate\\_interpolate.py:695\u001b[0m, in \u001b[0;36minterp1d._evaluate\u001b[1;34m(self, x_new)\u001b[0m\n\u001b[0;32m    693\u001b[0m y_new \u001b[39m=\u001b[39m \u001b[39mself\u001b[39m\u001b[39m.\u001b[39m_call(\u001b[39mself\u001b[39m, x_new)\n\u001b[0;32m    694\u001b[0m \u001b[39mif\u001b[39;00m \u001b[39mnot\u001b[39;00m \u001b[39mself\u001b[39m\u001b[39m.\u001b[39m_extrapolate:\n\u001b[1;32m--> 695\u001b[0m     below_bounds, above_bounds \u001b[39m=\u001b[39m \u001b[39mself\u001b[39;49m\u001b[39m.\u001b[39;49m_check_bounds(x_new)\n\u001b[0;32m    696\u001b[0m     \u001b[39mif\u001b[39;00m \u001b[39mlen\u001b[39m(y_new) \u001b[39m>\u001b[39m \u001b[39m0\u001b[39m:\n\u001b[0;32m    697\u001b[0m         \u001b[39m# Note fill_value must be broadcast up to the proper size\u001b[39;00m\n\u001b[0;32m    698\u001b[0m         \u001b[39m# and flattened to work here\u001b[39;00m\n\u001b[0;32m    699\u001b[0m         y_new[below_bounds] \u001b[39m=\u001b[39m \u001b[39mself\u001b[39m\u001b[39m.\u001b[39m_fill_value_below\n",
      "File \u001b[1;32mc:\\Users\\cdynm\\anaconda3\\envs\\julyiron\\lib\\site-packages\\scipy\\interpolate\\_interpolate.py:724\u001b[0m, in \u001b[0;36minterp1d._check_bounds\u001b[1;34m(self, x_new)\u001b[0m\n\u001b[0;32m    722\u001b[0m \u001b[39m# !! Could provide more information about which values are out of bounds\u001b[39;00m\n\u001b[0;32m    723\u001b[0m \u001b[39mif\u001b[39;00m \u001b[39mself\u001b[39m\u001b[39m.\u001b[39mbounds_error \u001b[39mand\u001b[39;00m below_bounds\u001b[39m.\u001b[39many():\n\u001b[1;32m--> 724\u001b[0m     \u001b[39mraise\u001b[39;00m \u001b[39mValueError\u001b[39;00m(\u001b[39m\"\u001b[39m\u001b[39mA value in x_new is below the interpolation \u001b[39m\u001b[39m\"\u001b[39m\n\u001b[0;32m    725\u001b[0m                      \u001b[39m\"\u001b[39m\u001b[39mrange.\u001b[39m\u001b[39m\"\u001b[39m)\n\u001b[0;32m    726\u001b[0m \u001b[39mif\u001b[39;00m \u001b[39mself\u001b[39m\u001b[39m.\u001b[39mbounds_error \u001b[39mand\u001b[39;00m above_bounds\u001b[39m.\u001b[39many():\n\u001b[0;32m    727\u001b[0m     \u001b[39mraise\u001b[39;00m \u001b[39mValueError\u001b[39;00m(\u001b[39m\"\u001b[39m\u001b[39mA value in x_new is above the interpolation \u001b[39m\u001b[39m\"\u001b[39m\n\u001b[0;32m    728\u001b[0m                      \u001b[39m\"\u001b[39m\u001b[39mrange.\u001b[39m\u001b[39m\"\u001b[39m)\n",
      "\u001b[1;31mValueError\u001b[0m: A value in x_new is below the interpolation range."
     ]
    }
   ],
   "source": [
    "# Run this code:\n",
    "\n",
    "%matplotlib inline\n",
    "import matplotlib.pyplot as plt\n",
    "\n",
    "plt.plot(x_new, f(x_new))\n",
    "\n",
    "##ValueError: A value in x_new is below the interpolation range."
   ]
  },
  {
   "cell_type": "markdown",
   "metadata": {},
   "source": [
    "Next create a function that will generate a cubic interpolation function. Name the function `g`."
   ]
  },
  {
   "cell_type": "code",
   "execution_count": 20,
   "metadata": {},
   "outputs": [
    {
     "data": {
      "text/plain": [
       "<scipy.interpolate._interpolate.interp1d at 0x1e263fc2680>"
      ]
     },
     "execution_count": 20,
     "metadata": {},
     "output_type": "execute_result"
    }
   ],
   "source": [
    "# Your code here:\n",
    "g= interp1d(kick_sample['usd_pledged_real'], kick_sample['backers'],kind='cubic')\n",
    "g\n"
   ]
  },
  {
   "cell_type": "code",
   "execution_count": 21,
   "metadata": {},
   "outputs": [
    {
     "ename": "ValueError",
     "evalue": "A value in x_new is below the interpolation range.",
     "output_type": "error",
     "traceback": [
      "\u001b[1;31m---------------------------------------------------------------------------\u001b[0m",
      "\u001b[1;31mValueError\u001b[0m                                Traceback (most recent call last)",
      "\u001b[1;32mc:\\Users\\cdynm\\Desktop\\Ironhack\\Labs\\lab-intro-to-scipy\\your-code\\main.ipynb Cell 29\u001b[0m in \u001b[0;36m<cell line: 3>\u001b[1;34m()\u001b[0m\n\u001b[0;32m      <a href='vscode-notebook-cell:/c%3A/Users/cdynm/Desktop/Ironhack/Labs/lab-intro-to-scipy/your-code/main.ipynb#X40sZmlsZQ%3D%3D?line=0'>1</a>\u001b[0m \u001b[39m# Run this code:\u001b[39;00m\n\u001b[1;32m----> <a href='vscode-notebook-cell:/c%3A/Users/cdynm/Desktop/Ironhack/Labs/lab-intro-to-scipy/your-code/main.ipynb#X40sZmlsZQ%3D%3D?line=2'>3</a>\u001b[0m plt\u001b[39m.\u001b[39mplot(x_new, g(x_new))\n",
      "File \u001b[1;32mc:\\Users\\cdynm\\anaconda3\\envs\\julyiron\\lib\\site-packages\\scipy\\interpolate\\_polyint.py:78\u001b[0m, in \u001b[0;36m_Interpolator1D.__call__\u001b[1;34m(self, x)\u001b[0m\n\u001b[0;32m     57\u001b[0m \u001b[39m\"\"\"\u001b[39;00m\n\u001b[0;32m     58\u001b[0m \u001b[39mEvaluate the interpolant\u001b[39;00m\n\u001b[0;32m     59\u001b[0m \n\u001b[1;32m   (...)\u001b[0m\n\u001b[0;32m     75\u001b[0m \n\u001b[0;32m     76\u001b[0m \u001b[39m\"\"\"\u001b[39;00m\n\u001b[0;32m     77\u001b[0m x, x_shape \u001b[39m=\u001b[39m \u001b[39mself\u001b[39m\u001b[39m.\u001b[39m_prepare_x(x)\n\u001b[1;32m---> 78\u001b[0m y \u001b[39m=\u001b[39m \u001b[39mself\u001b[39;49m\u001b[39m.\u001b[39;49m_evaluate(x)\n\u001b[0;32m     79\u001b[0m \u001b[39mreturn\u001b[39;00m \u001b[39mself\u001b[39m\u001b[39m.\u001b[39m_finish_y(y, x_shape)\n",
      "File \u001b[1;32mc:\\Users\\cdynm\\anaconda3\\envs\\julyiron\\lib\\site-packages\\scipy\\interpolate\\_interpolate.py:695\u001b[0m, in \u001b[0;36minterp1d._evaluate\u001b[1;34m(self, x_new)\u001b[0m\n\u001b[0;32m    693\u001b[0m y_new \u001b[39m=\u001b[39m \u001b[39mself\u001b[39m\u001b[39m.\u001b[39m_call(\u001b[39mself\u001b[39m, x_new)\n\u001b[0;32m    694\u001b[0m \u001b[39mif\u001b[39;00m \u001b[39mnot\u001b[39;00m \u001b[39mself\u001b[39m\u001b[39m.\u001b[39m_extrapolate:\n\u001b[1;32m--> 695\u001b[0m     below_bounds, above_bounds \u001b[39m=\u001b[39m \u001b[39mself\u001b[39;49m\u001b[39m.\u001b[39;49m_check_bounds(x_new)\n\u001b[0;32m    696\u001b[0m     \u001b[39mif\u001b[39;00m \u001b[39mlen\u001b[39m(y_new) \u001b[39m>\u001b[39m \u001b[39m0\u001b[39m:\n\u001b[0;32m    697\u001b[0m         \u001b[39m# Note fill_value must be broadcast up to the proper size\u001b[39;00m\n\u001b[0;32m    698\u001b[0m         \u001b[39m# and flattened to work here\u001b[39;00m\n\u001b[0;32m    699\u001b[0m         y_new[below_bounds] \u001b[39m=\u001b[39m \u001b[39mself\u001b[39m\u001b[39m.\u001b[39m_fill_value_below\n",
      "File \u001b[1;32mc:\\Users\\cdynm\\anaconda3\\envs\\julyiron\\lib\\site-packages\\scipy\\interpolate\\_interpolate.py:724\u001b[0m, in \u001b[0;36minterp1d._check_bounds\u001b[1;34m(self, x_new)\u001b[0m\n\u001b[0;32m    722\u001b[0m \u001b[39m# !! Could provide more information about which values are out of bounds\u001b[39;00m\n\u001b[0;32m    723\u001b[0m \u001b[39mif\u001b[39;00m \u001b[39mself\u001b[39m\u001b[39m.\u001b[39mbounds_error \u001b[39mand\u001b[39;00m below_bounds\u001b[39m.\u001b[39many():\n\u001b[1;32m--> 724\u001b[0m     \u001b[39mraise\u001b[39;00m \u001b[39mValueError\u001b[39;00m(\u001b[39m\"\u001b[39m\u001b[39mA value in x_new is below the interpolation \u001b[39m\u001b[39m\"\u001b[39m\n\u001b[0;32m    725\u001b[0m                      \u001b[39m\"\u001b[39m\u001b[39mrange.\u001b[39m\u001b[39m\"\u001b[39m)\n\u001b[0;32m    726\u001b[0m \u001b[39mif\u001b[39;00m \u001b[39mself\u001b[39m\u001b[39m.\u001b[39mbounds_error \u001b[39mand\u001b[39;00m above_bounds\u001b[39m.\u001b[39many():\n\u001b[0;32m    727\u001b[0m     \u001b[39mraise\u001b[39;00m \u001b[39mValueError\u001b[39;00m(\u001b[39m\"\u001b[39m\u001b[39mA value in x_new is above the interpolation \u001b[39m\u001b[39m\"\u001b[39m\n\u001b[0;32m    728\u001b[0m                      \u001b[39m\"\u001b[39m\u001b[39mrange.\u001b[39m\u001b[39m\"\u001b[39m)\n",
      "\u001b[1;31mValueError\u001b[0m: A value in x_new is below the interpolation range."
     ]
    }
   ],
   "source": [
    "# Run this code:\n",
    "\n",
    "plt.plot(x_new, g(x_new))\n",
    "\n",
    "##ValueError: A value in x_new is below the interpolation ran"
   ]
  },
  {
   "cell_type": "markdown",
   "metadata": {},
   "source": [
    "# Bonus Challenge - The Binomial Distribution\n",
    "\n",
    "The binomial distribution allows us to calculate the probability of k successes in n trials for a random variable with two possible outcomes (which we typically label success and failure).  \n",
    "\n",
    "The probability of success is typically denoted by p and the probability of failure is denoted by 1-p.\n",
    "\n",
    "The `scipy.stats` submodule contains a `binom` function for computing the probabilites of a random variable with the binomial distribution. You may read more about the binomial distribution [here](http://b.link/binomial55)\n",
    "\n",
    "* In the cell below, compute the probability that a dice lands on 5 exactly 3 times in 8 tries.\n"
   ]
  },
  {
   "cell_type": "code",
   "execution_count": null,
   "metadata": {},
   "outputs": [],
   "source": [
    "# Your code here:\n",
    "\n"
   ]
  },
  {
   "cell_type": "markdown",
   "metadata": {},
   "source": [
    "* Do a simulation for the last event: do a function that simulate 8 tries and return a 1 if the result is 5 exactly 3 times and 0 if not. Now launch your simulation."
   ]
  },
  {
   "cell_type": "code",
   "execution_count": null,
   "metadata": {},
   "outputs": [],
   "source": [
    "# Your code here:\n"
   ]
  },
  {
   "cell_type": "markdown",
   "metadata": {},
   "source": [
    "* Launch 10 simulations and represent the result in a bar plot. Now launch 1000 simulations and represent it. What do you see?"
   ]
  },
  {
   "cell_type": "code",
   "execution_count": null,
   "metadata": {},
   "outputs": [],
   "source": [
    "# Your code here:\n"
   ]
  }
 ],
 "metadata": {
  "kernelspec": {
   "display_name": "Python 3.9.13 ('julyiron')",
   "language": "python",
   "name": "python3"
  },
  "language_info": {
   "codemirror_mode": {
    "name": "ipython",
    "version": 3
   },
   "file_extension": ".py",
   "mimetype": "text/x-python",
   "name": "python",
   "nbconvert_exporter": "python",
   "pygments_lexer": "ipython3",
   "version": "3.9.13"
  },
  "vscode": {
   "interpreter": {
    "hash": "5ac963ea2298d630011d42358204cf5e2588a551b64dac2d2c50b491d97aa587"
   }
  }
 },
 "nbformat": 4,
 "nbformat_minor": 2
}
